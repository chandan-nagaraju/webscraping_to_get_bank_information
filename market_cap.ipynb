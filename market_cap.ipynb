{
 "cells": [
  {
   "cell_type": "code",
   "execution_count": 1,
   "metadata": {},
   "outputs": [],
   "source": [
    "from bs4 import BeautifulSoup\n",
    "import requests\n",
    "import pandas as pd\n",
    "from datetime import datetime"
   ]
  },
  {
   "cell_type": "code",
   "execution_count": 2,
   "metadata": {},
   "outputs": [],
   "source": [
    "url=\"https://web.archive.org/web/20200318083015/https://en.wikipedia.org/wiki/List_of_largest_banks\""
   ]
  },
  {
   "cell_type": "code",
   "execution_count": 3,
   "metadata": {},
   "outputs": [],
   "source": [
    "#logging\n",
    "def log(message):\n",
    "    timestamp_format='%Y-%h-%d-%H:%M:%S'\n",
    "    now=datetime.now()\n",
    "    timestamp=now.strftime(timestamp_format)\n",
    "    with open(\"logfile.txt\",\"a\") as f:\n",
    "        f.write(timestamp +' , '+ message + '\\n')"
   ]
  },
  {
   "attachments": {},
   "cell_type": "markdown",
   "metadata": {},
   "source": [
    "## Copy the page using url"
   ]
  },
  {
   "cell_type": "code",
   "execution_count": 4,
   "metadata": {},
   "outputs": [],
   "source": [
    "def copy_page(url):\n",
    "    \"\"\"copy the specified page using specified url\"\"\"\n",
    "    log(\"copying started\")\n",
    "    response=requests.get(url)\n",
    "    if response.status_code>=200 and response.status_code<=299:\n",
    "        page_content=response.text\n",
    "        with open('List-of-largest-banks.html','w',encoding=\"utf-8\") as file:\n",
    "            file.write(page_content) \n",
    "            log(\"copying completed\")\n",
    "    return \"list-of-largest-banks.html downloaded\""
   ]
  },
  {
   "attachments": {},
   "cell_type": "markdown",
   "metadata": {},
   "source": [
    "## Parse the content using Beautiful soup"
   ]
  },
  {
   "cell_type": "code",
   "execution_count": 5,
   "metadata": {},
   "outputs": [],
   "source": [
    "def parse(file):\n",
    "    \"\"\"reading the content from the file and we use BEAUTIFULSOUP object to parse the content\"\"\"\n",
    "    log(\"parsing started\")\n",
    "    with open(file,'r') as f:\n",
    "        html_source=f.read()\n",
    "    doc=BeautifulSoup(html_source,'html.parser')\n",
    "    log(\"parsing completed\")\n",
    "    return doc"
   ]
  },
  {
   "attachments": {},
   "cell_type": "markdown",
   "metadata": {},
   "source": [
    "## Extracting data from doc to scrape data from table 'By market capitalization'"
   ]
  },
  {
   "cell_type": "code",
   "execution_count": 6,
   "metadata": {},
   "outputs": [],
   "source": [
    "def extract(doc):\n",
    "    log(\"extraction started../\")\n",
    "    data = pd.DataFrame(columns=[\"Name\", \"Market Cap (US$ Billion)\"])\n",
    "\n",
    "    for row in doc.find_all('tbody')[2].find_all('tr'):\n",
    "        col = row.find_all('td')\n",
    "        if len(col)==3:\n",
    "            Bank_name=[col[1].text.strip()]\n",
    "            Market_cap=[col[2].text.strip()]\n",
    "            New_data=pd.DataFrame({\"Name\":Bank_name, \"Market Cap (US$ Billion)\":Market_cap})\n",
    "            data = pd.concat([data, New_data], ignore_index=True)\n",
    "    log(\"extraction completed..!\")\n",
    "\n",
    "    return data\n"
   ]
  },
  {
   "attachments": {},
   "cell_type": "markdown",
   "metadata": {},
   "source": [
    "## loading the data to json"
   ]
  },
  {
   "cell_type": "code",
   "execution_count": 7,
   "metadata": {},
   "outputs": [],
   "source": [
    "def load(data,targetfile):\n",
    "    log(\"loading started..!\")\n",
    "    data.to_json(f\"{targetfile}.json\",orient = 'records',indent=5)\n",
    "    log(\"loading completed..!\")"
   ]
  },
  {
   "attachments": {},
   "cell_type": "markdown",
   "metadata": {},
   "source": [
    "## Working:"
   ]
  },
  {
   "cell_type": "code",
   "execution_count": 8,
   "metadata": {},
   "outputs": [
    {
     "ename": "NameError",
     "evalue": "name 'datetime' is not defined",
     "output_type": "error",
     "traceback": [
      "\u001b[0;31m---------------------------------------------------------------------------\u001b[0m",
      "\u001b[0;31mNameError\u001b[0m                                 Traceback (most recent call last)",
      "Cell \u001b[0;32mIn[8], line 1\u001b[0m\n\u001b[0;32m----> 1\u001b[0m copy_page(url)\n",
      "Cell \u001b[0;32mIn[4], line 3\u001b[0m, in \u001b[0;36mcopy_page\u001b[0;34m(url)\u001b[0m\n\u001b[1;32m      1\u001b[0m \u001b[39mdef\u001b[39;00m \u001b[39mcopy_page\u001b[39m(url):\n\u001b[1;32m      2\u001b[0m \u001b[39m    \u001b[39m\u001b[39m\"\"\"copy the specified page using specified url\"\"\"\u001b[39;00m\n\u001b[0;32m----> 3\u001b[0m     log(\u001b[39m\"\u001b[39;49m\u001b[39mcopying started\u001b[39;49m\u001b[39m\"\u001b[39;49m)\n\u001b[1;32m      4\u001b[0m     response\u001b[39m=\u001b[39mrequests\u001b[39m.\u001b[39mget(url)\n\u001b[1;32m      5\u001b[0m     \u001b[39mif\u001b[39;00m response\u001b[39m.\u001b[39mstatus_code\u001b[39m>\u001b[39m\u001b[39m=\u001b[39m\u001b[39m200\u001b[39m \u001b[39mand\u001b[39;00m response\u001b[39m.\u001b[39mstatus_code\u001b[39m<\u001b[39m\u001b[39m=\u001b[39m\u001b[39m299\u001b[39m:\n",
      "Cell \u001b[0;32mIn[3], line 4\u001b[0m, in \u001b[0;36mlog\u001b[0;34m(message)\u001b[0m\n\u001b[1;32m      2\u001b[0m \u001b[39mdef\u001b[39;00m \u001b[39mlog\u001b[39m(message):\n\u001b[1;32m      3\u001b[0m     timestamp_format\u001b[39m=\u001b[39m\u001b[39m'\u001b[39m\u001b[39m%\u001b[39m\u001b[39mY-\u001b[39m\u001b[39m%\u001b[39m\u001b[39mh-\u001b[39m\u001b[39m%d\u001b[39;00m\u001b[39m-\u001b[39m\u001b[39m%\u001b[39m\u001b[39mH:\u001b[39m\u001b[39m%\u001b[39m\u001b[39mM:\u001b[39m\u001b[39m%\u001b[39m\u001b[39mS\u001b[39m\u001b[39m'\u001b[39m\n\u001b[0;32m----> 4\u001b[0m     now\u001b[39m=\u001b[39mdatetime\u001b[39m.\u001b[39mnow()\n\u001b[1;32m      5\u001b[0m     timestamp\u001b[39m=\u001b[39mnow\u001b[39m.\u001b[39mstrftime(timestamp_format)\n\u001b[1;32m      6\u001b[0m     \u001b[39mwith\u001b[39;00m \u001b[39mopen\u001b[39m(\u001b[39m\"\u001b[39m\u001b[39mlogfile.txt\u001b[39m\u001b[39m\"\u001b[39m,\u001b[39m\"\u001b[39m\u001b[39ma\u001b[39m\u001b[39m\"\u001b[39m) \u001b[39mas\u001b[39;00m f:\n",
      "\u001b[0;31mNameError\u001b[0m: name 'datetime' is not defined"
     ]
    }
   ],
   "source": [
    "copy_page(url)"
   ]
  },
  {
   "cell_type": "code",
   "execution_count": null,
   "metadata": {},
   "outputs": [],
   "source": [
    "doc=parse('List-of-largest-banks.html')"
   ]
  },
  {
   "cell_type": "code",
   "execution_count": null,
   "metadata": {},
   "outputs": [],
   "source": [
    "df=extract(doc)"
   ]
  },
  {
   "cell_type": "code",
   "execution_count": null,
   "metadata": {},
   "outputs": [],
   "source": [
    "df.head()"
   ]
  },
  {
   "cell_type": "code",
   "execution_count": null,
   "metadata": {},
   "outputs": [],
   "source": [
    "load(df,'market_cap')"
   ]
  },
  {
   "cell_type": "code",
   "execution_count": null,
   "metadata": {},
   "outputs": [],
   "source": []
  }
 ],
 "metadata": {
  "kernelspec": {
   "display_name": "base",
   "language": "python",
   "name": "python3"
  },
  "language_info": {
   "codemirror_mode": {
    "name": "ipython",
    "version": 3
   },
   "file_extension": ".py",
   "mimetype": "text/x-python",
   "name": "python",
   "nbconvert_exporter": "python",
   "pygments_lexer": "ipython3",
   "version": "3.10.9"
  },
  "orig_nbformat": 4
 },
 "nbformat": 4,
 "nbformat_minor": 2
}
